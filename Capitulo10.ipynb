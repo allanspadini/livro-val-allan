{
  "nbformat": 4,
  "nbformat_minor": 0,
  "metadata": {
    "colab": {
      "provenance": [],
      "collapsed_sections": []
    },
    "kernelspec": {
      "name": "python3",
      "display_name": "Python 3"
    },
    "language_info": {
      "name": "python"
    }
  },
  "cells": [
    {
      "cell_type": "markdown",
      "source": [
        "# Múltiplos regressores"
      ],
      "metadata": {
        "id": "h8ZHOY3niOU2"
      }
    },
    {
      "cell_type": "markdown",
      "source": [
        "## Novos dados de temperatura"
      ],
      "metadata": {
        "id": "Q5zil-vOjTkG"
      }
    },
    {
      "cell_type": "code",
      "execution_count": null,
      "metadata": {
        "id": "ct3Zm12O_Gly"
      },
      "outputs": [],
      "source": [
        "url1 = 'https://github.com/allanspadini/livro-val-allan/raw/main/DailyDelhiClimateTrain.csv'\n",
        "url2 = 'https://github.com/allanspadini/livro-val-allan/raw/main/DailyDelhiClimateTest.csv'"
      ]
    },
    {
      "cell_type": "code",
      "source": [
        "import pandas as pd\n",
        "dado = pd.read_csv(url1)\n",
        "dado.columns = ['data','temperatura_m','umidade','vel_vento','pressao_m']\n",
        "dado['data'] = pd.to_datetime(dado['data'])\n",
        "round(dado.head())"
      ],
      "metadata": {
        "id": "vJvbfaTFAJig"
      },
      "execution_count": null,
      "outputs": []
    },
    {
      "cell_type": "code",
      "source": [
        "import plotly.express as px\n",
        "\n",
        "fig = px.scatter_3d(dado, x='umidade', y='data', z='temperatura_m',\n",
        "              color='pressao_m',color_continuous_scale='greys',size='vel_vento')\n",
        "fig.show()"
      ],
      "metadata": {
        "id": "rNoPCdsAEpxn"
      },
      "execution_count": null,
      "outputs": []
    },
    {
      "cell_type": "code",
      "source": [
        "dado = dado.query('pressao_m < 7000')"
      ],
      "metadata": {
        "id": "ALEdWzbAFPCY"
      },
      "execution_count": null,
      "outputs": []
    },
    {
      "cell_type": "code",
      "source": [
        "fig = px.scatter_3d(dado, x='umidade', y='data', z='temperatura_m',\n",
        "              color='pressao_m',color_continuous_scale='greys',size='vel_vento')\n",
        "fig.show()"
      ],
      "metadata": {
        "id": "vHV_WNUdNKt0"
      },
      "execution_count": null,
      "outputs": []
    },
    {
      "cell_type": "code",
      "source": [
        "fig = px.imshow(abs(dado.iloc[:, 1:].corr()),color_continuous_scale='greys')\n",
        "fig.show()"
      ],
      "metadata": {
        "id": "ZHpAyGJDNNRc"
      },
      "execution_count": null,
      "outputs": []
    },
    {
      "cell_type": "code",
      "source": [
        "# Importação das bibliotecas\n",
        "from fbprophet import Prophet\n",
        "import matplotlib.pyplot as plt"
      ],
      "metadata": {
        "id": "N2FS6R4CUq30"
      },
      "execution_count": null,
      "outputs": []
    },
    {
      "cell_type": "code",
      "source": [
        "# Separação dos dados de treino e teste\n",
        "df_treino = pd.DataFrame()"
      ],
      "metadata": {
        "id": "W-1e48GKUzts"
      },
      "execution_count": null,
      "outputs": []
    },
    {
      "cell_type": "code",
      "source": [
        "df_treino = dado.rename(columns={'temperatura_m': 'y', 'data':'ds'})"
      ],
      "metadata": {
        "id": "AImvBPEFQTMk"
      },
      "execution_count": null,
      "outputs": []
    },
    {
      "cell_type": "code",
      "source": [
        "df_teste = pd.read_csv(url2)\n",
        "df_teste.columns = ['ds','y','umidade','vel_vento','pressao_m']\n",
        "df_teste['ds'] = pd.to_datetime(df_teste['ds'])"
      ],
      "metadata": {
        "id": "g8BDtN_wVwHy"
      },
      "execution_count": null,
      "outputs": []
    },
    {
      "cell_type": "code",
      "source": [
        "# Ajuste do modelo\n",
        "modelo = Prophet()\n",
        "modelo.fit(df_treino)\n",
        "dataframefuturo = modelo.make_future_dataframe(freq='D',periods=114)\n",
        "\n",
        "previsao = modelo.predict(dataframefuturo);\n",
        "\n",
        "#Construção do gráfico\n",
        "fig = modelo.plot(previsao,figsize=(18,6))\n",
        "plt.xticks(fontsize=20)\n",
        "plt.yticks(fontsize=20)\n",
        "plt.xlabel('Meses', fontsize=24)\n",
        "plt.ylabel('Temperatura (°C)', fontsize=24)\n",
        "plt.plot(df_teste['ds'],df_teste['y'],'.r')"
      ],
      "metadata": {
        "id": "I5UlHgnyVO7i"
      },
      "execution_count": null,
      "outputs": []
    },
    {
      "cell_type": "code",
      "source": [
        "from sklearn.metrics import mean_absolute_error\n",
        "mean_absolute_error(previsao['yhat'][:1461],df_treino['y'])"
      ],
      "metadata": {
        "id": "kY_Q7mjAeyM3"
      },
      "execution_count": null,
      "outputs": []
    },
    {
      "cell_type": "code",
      "source": [
        "mean_absolute_error(previsao['yhat'][1461:],df_teste['y'])"
      ],
      "metadata": {
        "id": "jemShzmB0cXn"
      },
      "execution_count": null,
      "outputs": []
    },
    {
      "cell_type": "code",
      "source": [
        "modelo = Prophet()\n",
        "modelo.add_regressor('umidade')"
      ],
      "metadata": {
        "id": "1p2TRDP6XenI"
      },
      "execution_count": null,
      "outputs": []
    },
    {
      "cell_type": "code",
      "source": [
        "modelo.fit(df_treino)\n",
        "dataframefuturo = modelo.make_future_dataframe(periods=114)"
      ],
      "metadata": {
        "id": "ftpvfkincTqo"
      },
      "execution_count": null,
      "outputs": []
    },
    {
      "cell_type": "code",
      "source": [
        "umidade = pd.concat([df_treino['umidade'], df_teste['umidade']]) "
      ],
      "metadata": {
        "id": "tQ7ozcwxaPEa"
      },
      "execution_count": null,
      "outputs": []
    },
    {
      "cell_type": "code",
      "source": [
        "dataframefuturo['umidade'] = umidade.values"
      ],
      "metadata": {
        "id": "0mWO8zg9VjLK"
      },
      "execution_count": null,
      "outputs": []
    },
    {
      "cell_type": "code",
      "source": [
        "previsao = modelo.predict(dataframefuturo);\n",
        "\n",
        "#Construção do gráfico\n",
        "fig = modelo.plot(previsao,figsize=(18,6))\n",
        "plt.xticks(fontsize=20)\n",
        "plt.yticks(fontsize=20)\n",
        "plt.xlabel('Meses', fontsize=24)\n",
        "plt.ylabel('Temperatura (°C)', fontsize=24)\n",
        "plt.plot(df_teste['ds'],df_teste['y'],'.r')"
      ],
      "metadata": {
        "id": "q_dfS6C6pgzm"
      },
      "execution_count": null,
      "outputs": []
    },
    {
      "cell_type": "code",
      "source": [
        "mean_absolute_error(previsao['yhat'][:1461],df_treino['y'])\n"
      ],
      "metadata": {
        "id": "mXBY5YFW0qNO"
      },
      "execution_count": null,
      "outputs": []
    },
    {
      "cell_type": "code",
      "source": [
        "mean_absolute_error(previsao['yhat'][1461:],df_teste['y'])"
      ],
      "metadata": {
        "id": "BhsyEE2T0Mol"
      },
      "execution_count": null,
      "outputs": []
    }
  ]
}